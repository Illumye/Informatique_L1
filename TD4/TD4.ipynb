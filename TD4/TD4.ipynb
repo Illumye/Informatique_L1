{
 "cells": [
  {
   "cell_type": "markdown",
   "metadata": {},
   "source": [
    "# TD4"
   ]
  },
  {
   "cell_type": "markdown",
   "metadata": {},
   "source": [
    "## Ex 1"
   ]
  },
  {
   "cell_type": "code",
   "execution_count": null,
   "metadata": {},
   "outputs": [],
   "source": [
    "def tri_fusion(tab):\n",
    "    # Tri fusion\n",
    "    if len(tab) > 1:\n",
    "        mid = len(tab) // 2\n",
    "        left = tab[:mid]\n",
    "        right = tab[mid:]\n",
    "\n",
    "        tri_fusion(left)\n",
    "        tri_fusion(right)\n",
    "\n",
    "        i = 0\n",
    "        j = 0\n",
    "        k = 0\n",
    "        while i < len(left) and j < len(right):\n",
    "            if left[i] <= right[j]:\n",
    "                tab[k] = left[i]\n",
    "                i += 1\n",
    "            else:\n",
    "                tab[k] = right[j]\n",
    "                j += 1\n",
    "            k += 1\n",
    "            \n",
    "        while i < len(left):\n",
    "            tab[k] = left[i]\n",
    "            i += 1\n",
    "            k += 1\n",
    "            \n",
    "        while j < len(right):\n",
    "            tab[k] = right[j]\n",
    "            j += 1\n",
    "            k += 1\n",
    "    return tab\n",
    "\n",
    "print(tri_fusion([7, 3, 5, 4, 2, 1]))"
   ]
  },
  {
   "cell_type": "markdown",
   "metadata": {},
   "source": [
    "## Ex 2"
   ]
  },
  {
   "cell_type": "code",
   "execution_count": null,
   "metadata": {},
   "outputs": [],
   "source": [
    "def fusionner(t1, n1, t2, n2, t3):\n",
    "    i = 0\n",
    "    j = 0\n",
    "    k = 0\n",
    "    while i < n1 and j < n2:\n",
    "        if t1[i] <= t2[j]:\n",
    "            t3[k] = t3[i]\n",
    "            i += 1\n",
    "        else:\n",
    "            t3[k] = t2[j]\n",
    "            j += 1\n",
    "        k += 1\n",
    "    # sortie de la boucle : i == n1 ou j == n2\n",
    "    if i == n1:\n",
    "        while j < n2:\n",
    "            t3[k] = t2[j]\n",
    "            j += 1\n",
    "            k += 1\n",
    "    else:\n",
    "        while i < n1:\n",
    "            t3[k] = t1[i]\n",
    "            i += 1\n",
    "            k += 1\n",
    "    return k"
   ]
  },
  {
   "cell_type": "markdown",
   "metadata": {},
   "source": [
    "## Ex 3"
   ]
  },
  {
   "cell_type": "markdown",
   "metadata": {},
   "source": [
    "Première comparaison à la 1ère fusion\n",
    "\n",
    "Pour l'exemple `t[1]` et `t[2]`\n",
    "\n",
    "Pour $n=4$ : `t[0]` et `t[1]`\n",
    "\n",
    "Dans tous les cas, ce seront `t[0]` et `t[1]` ou `t[1]` et `t[2]` puis la suivante changera selon les valeurs de `t[0], t[1], t[2]`\n",
    "\n",
    "Pour la dernière comparaison, on ne sait pas quels sont les indices `i, j` concernée et donc les valeurs `t[i], t[j]`. Mais `t[i]` à gauche et `t[j]` à droite."
   ]
  },
  {
   "cell_type": "markdown",
   "metadata": {},
   "source": [
    "## Ex 4"
   ]
  },
  {
   "cell_type": "markdown",
   "metadata": {},
   "source": [
    "Toutes les comparaisons entre éléments du tableau sont dans la 1ère boucle `while`\n",
    "\n",
    "Dans le meilleur cas :\n",
    "- `i` augmente toujours, `j` reste $0$ --> $n_1$ étapes, $n_1=\\left\\lfloor\\dfrac{n}{2}\\right\\rfloor$ \n",
    "- `i` reste $0$, `j` augmente toujours --> $n_2$ étapes, $n_2=\\left\\lfloor\\dfrac{n+1}{2}\\right\\rfloor$\n",
    "\n",
    "Dans le pire cas :\n",
    "\n",
    "\n",
    "Au total :\n",
    "\n",
    "$n_1-1+n_2-1+1=n_1+n_2-1=n-1$ comparaisons\n",
    "\n",
    "**Bilan** : pour fusionner les tableaux : entre $\\dfrac{n}{2}$ (meilleur cas) et $n$ (pire cas) comparaisons.\n",
    "A chaque appel récursif, on divise la taille du tableau par $2$"
   ]
  },
  {
   "cell_type": "markdown",
   "metadata": {},
   "source": [
    "## Ex 5"
   ]
  },
  {
   "cell_type": "markdown",
   "metadata": {},
   "source": [
    "Fusionner $n_1+n_2=n$ affectations\n",
    "\n",
    "Au total : $n \\times log(n)$ affectations pour le tri fusion\n",
    "\n",
    "**Remarque :** $2n \\times log_2(n)$ si on considère `t3` comme tableau auxilliaire et qu'il faut copier `t3` dans `t` (tableau à trier) à chaque fusion"
   ]
  },
  {
   "cell_type": "markdown",
   "metadata": {},
   "source": [
    "## Ex 6"
   ]
  },
  {
   "cell_type": "markdown",
   "metadata": {},
   "source": [
    "$O(nlog_2(n)$"
   ]
  },
  {
   "cell_type": "markdown",
   "metadata": {},
   "source": [
    "## Ex 7"
   ]
  },
  {
   "cell_type": "markdown",
   "metadata": {},
   "source": [
    "Cela dépend de la fonction fusion utilisée\n",
    "\n",
    "Oui ici, si on avait écrit `if t1[i] < t2[j]` non"
   ]
  },
  {
   "cell_type": "markdown",
   "metadata": {},
   "source": [
    "## Ex 8"
   ]
  },
  {
   "cell_type": "markdown",
   "metadata": {},
   "source": [
    "```mermaid\n",
    "graph TD\n",
    "    A[\"triFusion([10, 4, 7, 3, 9, 11, 5], 0, 7)\"] --> B[\"TriFusion(t, 0, 3)\"]\n",
    "    A --> C[\"triFusion(t, 3, 7)\"]\n",
    "    B --> D[\"triFusion(t, 0, 1)\"]\n",
    "    B --> E[\"triFusion(t, 1, 3)\"]\n",
    "    C --> F[\"triFusion(t, 3, 5)\"]\n",
    "    C --> G[\"triFusion(t, 5, 7)\"]\n",
    "    D --> H[\"fusionner(t, 0, 1, 3)\"]\n",
    "    E --> J[\"triFusion(t, 1, 2)\"]\n",
    "    E --> K[\"triFusion(t, 2, 3)\"]\n",
    "    J --> L[\"fusionner(t, 1, 2, 3)\"]\n",
    "    K --> L\n",
    "    L --> H\n",
    "    H --> M[\"fusionner(t, 0, 3, 7)\"]\n",
    "    F --> N[\"triFusion(t, 3, 4)\"]\n",
    "    F --> O[\"triFusion(t, 4, 5)\"]\n",
    "    N --> P[\"fusionner(t, 3, 4, 5)\"]\n",
    "    O --> P\n",
    "    G --> Q[\"triFusion(t, 5, 6)\"]\n",
    "    G --> R[\"triFusion(t, 6, 7)\"]\n",
    "    Q --> S[\"fusionner(t, 5, 6, 7)\"]\n",
    "    R --> S\n",
    "    M --> T[\"fusionner(t, 3, 5, 7)\"]\n",
    "    S --> T\n",
    "```"
   ]
  }
 ],
 "metadata": {
  "language_info": {
   "name": "python"
  }
 },
 "nbformat": 4,
 "nbformat_minor": 2
}
